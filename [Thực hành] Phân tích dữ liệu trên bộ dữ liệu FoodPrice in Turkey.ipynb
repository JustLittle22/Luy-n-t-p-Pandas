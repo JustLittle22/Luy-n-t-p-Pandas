{
 "cells": [
  {
   "cell_type": "code",
   "execution_count": 39,
   "id": "e0a8abea",
   "metadata": {},
   "outputs": [],
   "source": [
    "import pandas as pd\n",
    "import numpy as np\n",
    "from scipy import stats\n",
    "import matplotlib.pyplot as plt"
   ]
  },
  {
   "cell_type": "code",
   "execution_count": 40,
   "id": "10b90896",
   "metadata": {},
   "outputs": [
    {
     "name": "stdout",
     "output_type": "stream",
     "text": [
      "<class 'pandas.core.frame.DataFrame'>\n",
      "RangeIndex: 7381 entries, 0 to 7380\n",
      "Data columns (total 8 columns):\n",
      " #   Column       Non-Null Count  Dtype  \n",
      "---  ------       --------------  -----  \n",
      " 0   Place        7381 non-null   object \n",
      " 1   ProductId    7381 non-null   int64  \n",
      " 2   ProductName  7381 non-null   object \n",
      " 3   UmId         7381 non-null   int64  \n",
      " 4   UmName       7381 non-null   object \n",
      " 5   Month        7381 non-null   int64  \n",
      " 6   Year         7381 non-null   int64  \n",
      " 7   Price        7381 non-null   float64\n",
      "dtypes: float64(1), int64(4), object(3)\n",
      "memory usage: 461.4+ KB\n"
     ]
    }
   ],
   "source": [
    "df = pd.read_csv('FoodPrice_in_Turkey.csv')\n",
    "df.info()"
   ]
  },
  {
   "cell_type": "markdown",
   "id": "6cb3103b",
   "metadata": {},
   "source": [
    "1. Với mức ý nghĩa 5% kiểm định giả thuyết giá bán gạo trung bình năm 2019 là 10 Lira/kg"
   ]
  },
  {
   "cell_type": "code",
   "execution_count": 41,
   "id": "d4fdfddc",
   "metadata": {},
   "outputs": [
    {
     "data": {
      "text/plain": [
       "['Rice - Retail',\n",
       " 'Wheat flour - Retail',\n",
       " 'Beans (white) - Retail',\n",
       " 'Potatoes - Retail',\n",
       " 'Eggs - Retail',\n",
       " 'Meat (chicken) - Retail',\n",
       " 'Sugar - Retail',\n",
       " 'Garlic - Retail',\n",
       " 'Lentils - Retail',\n",
       " 'Pasta - Retail',\n",
       " 'Tomatoes - Retail',\n",
       " 'Groundnuts (shelled) - Retail',\n",
       " 'Bread (common) - Retail',\n",
       " 'Coffee - Retail',\n",
       " 'Onions - Retail',\n",
       " 'Tea (green) - Retail',\n",
       " 'Cabbage - Retail',\n",
       " 'Meat (mutton) - Retail',\n",
       " 'Oil (sunflower) - Retail',\n",
       " 'Salt - Retail',\n",
       " 'Coffee (instant) - Retail',\n",
       " 'Peas (green, dry) - Retail',\n",
       " 'Apples (red) - Retail',\n",
       " 'Cauliflower - Retail',\n",
       " 'Cucumbers (greenhouse) - Retail',\n",
       " 'Oil (olive) - Retail',\n",
       " 'Chickpeas - Retail',\n",
       " 'Bananas - Retail',\n",
       " 'Bulgur - Retail',\n",
       " 'Tea - Retail',\n",
       " 'Fuel (petrol-gasoline) - Retail',\n",
       " 'Transport (public) - Retail',\n",
       " 'Tomatoes (paste) - Retail',\n",
       " 'Fuel (gas) - Retail',\n",
       " 'Apples - Retail',\n",
       " 'Oranges - Retail',\n",
       " 'Yogurt - Retail',\n",
       " 'Bread (pita) - Retail',\n",
       " 'Cucumbers - Retail',\n",
       " 'Fish (fresh) - Retail',\n",
       " 'Spinach - Retail',\n",
       " 'Cheese - Retail',\n",
       " 'Meat (veal) - Retail',\n",
       " 'Eggplants - Retail',\n",
       " 'Milk (powder, infant formula) - Retail',\n",
       " 'Zucchini - Retail',\n",
       " 'Milk (pasteurized) - Retail',\n",
       " 'Wage (non-qualified labour, non-agricultural) - Retail',\n",
       " 'Electricity - Retail',\n",
       " 'Tea (herbal) - Retail',\n",
       " 'Water - Retail',\n",
       " 'Cocoa (powder) - Retail']"
      ]
     },
     "execution_count": 41,
     "metadata": {},
     "output_type": "execute_result"
    }
   ],
   "source": [
    "product_name = list(df['ProductName'].unique())\n",
    "product_name"
   ]
  },
  {
   "cell_type": "code",
   "execution_count": 42,
   "id": "56b339be",
   "metadata": {},
   "outputs": [
    {
     "data": {
      "text/html": [
       "<div>\n",
       "<style scoped>\n",
       "    .dataframe tbody tr th:only-of-type {\n",
       "        vertical-align: middle;\n",
       "    }\n",
       "\n",
       "    .dataframe tbody tr th {\n",
       "        vertical-align: top;\n",
       "    }\n",
       "\n",
       "    .dataframe thead th {\n",
       "        text-align: right;\n",
       "    }\n",
       "</style>\n",
       "<table border=\"1\" class=\"dataframe\">\n",
       "  <thead>\n",
       "    <tr style=\"text-align: right;\">\n",
       "      <th></th>\n",
       "      <th>Place</th>\n",
       "      <th>ProductId</th>\n",
       "      <th>ProductName</th>\n",
       "      <th>UmId</th>\n",
       "      <th>UmName</th>\n",
       "      <th>Month</th>\n",
       "      <th>Year</th>\n",
       "      <th>Price</th>\n",
       "    </tr>\n",
       "  </thead>\n",
       "  <tbody>\n",
       "    <tr>\n",
       "      <th>54</th>\n",
       "      <td>National Average</td>\n",
       "      <td>52</td>\n",
       "      <td>Rice - Retail</td>\n",
       "      <td>5</td>\n",
       "      <td>KG</td>\n",
       "      <td>1</td>\n",
       "      <td>2019</td>\n",
       "      <td>8.4275</td>\n",
       "    </tr>\n",
       "    <tr>\n",
       "      <th>55</th>\n",
       "      <td>National Average</td>\n",
       "      <td>52</td>\n",
       "      <td>Rice - Retail</td>\n",
       "      <td>5</td>\n",
       "      <td>KG</td>\n",
       "      <td>2</td>\n",
       "      <td>2019</td>\n",
       "      <td>8.7656</td>\n",
       "    </tr>\n",
       "    <tr>\n",
       "      <th>56</th>\n",
       "      <td>National Average</td>\n",
       "      <td>52</td>\n",
       "      <td>Rice - Retail</td>\n",
       "      <td>5</td>\n",
       "      <td>KG</td>\n",
       "      <td>3</td>\n",
       "      <td>2019</td>\n",
       "      <td>8.8101</td>\n",
       "    </tr>\n",
       "    <tr>\n",
       "      <th>57</th>\n",
       "      <td>National Average</td>\n",
       "      <td>52</td>\n",
       "      <td>Rice - Retail</td>\n",
       "      <td>5</td>\n",
       "      <td>KG</td>\n",
       "      <td>4</td>\n",
       "      <td>2019</td>\n",
       "      <td>8.9266</td>\n",
       "    </tr>\n",
       "    <tr>\n",
       "      <th>58</th>\n",
       "      <td>National Average</td>\n",
       "      <td>52</td>\n",
       "      <td>Rice - Retail</td>\n",
       "      <td>5</td>\n",
       "      <td>KG</td>\n",
       "      <td>5</td>\n",
       "      <td>2019</td>\n",
       "      <td>9.1866</td>\n",
       "    </tr>\n",
       "  </tbody>\n",
       "</table>\n",
       "</div>"
      ],
      "text/plain": [
       "               Place  ProductId    ProductName  UmId UmName  Month  Year  \\\n",
       "54  National Average         52  Rice - Retail     5     KG      1  2019   \n",
       "55  National Average         52  Rice - Retail     5     KG      2  2019   \n",
       "56  National Average         52  Rice - Retail     5     KG      3  2019   \n",
       "57  National Average         52  Rice - Retail     5     KG      4  2019   \n",
       "58  National Average         52  Rice - Retail     5     KG      5  2019   \n",
       "\n",
       "     Price  \n",
       "54  8.4275  \n",
       "55  8.7656  \n",
       "56  8.8101  \n",
       "57  8.9266  \n",
       "58  9.1866  "
      ]
     },
     "execution_count": 42,
     "metadata": {},
     "output_type": "execute_result"
    }
   ],
   "source": [
    "df_rice = df[(df['ProductName']=='Rice - Retail') & (df['Year']==2019)]\n",
    "df_rice.head()"
   ]
  },
  {
   "cell_type": "code",
   "execution_count": 43,
   "id": "a4a4e657",
   "metadata": {},
   "outputs": [
    {
     "name": "stdout",
     "output_type": "stream",
     "text": [
      "Số lượng bản ghi của gạo năm 2019: 48\n"
     ]
    }
   ],
   "source": [
    "print (f'Số lượng bản ghi của gạo năm 2019: {df_rice.shape[0]}')"
   ]
  },
  {
   "cell_type": "code",
   "execution_count": 44,
   "id": "135781c9",
   "metadata": {},
   "outputs": [
    {
     "data": {
      "image/png": "[encoded data removed]",
      "text/plain": [
       "<Figure size 432x288 with 1 Axes>"
      ]
     },
     "metadata": {
      "needs_background": "light"
     },
     "output_type": "display_data"
    }
   ],
   "source": [
    "df_rice['Price'].hist()\n",
    "plt.title('Biểu đồ tần suất của Giá Gạo')\n",
    "plt.xlabel('Giá');"
   ]
  },
  {
   "cell_type": "markdown",
   "id": "0c58a86a",
   "metadata": {},
   "source": [
    "Giá gạo có xu hướng gần giống phân phối chuẩn, nên thực hiện kiểm định 2 phía với one sample ttest"
   ]
  },
  {
   "cell_type": "markdown",
   "id": "72f4982d",
   "metadata": {},
   "source": [
    "- H0: Giá gạo trung bình năm 2019 bằng 10 lira\n",
    "- H1: Giá gạo trung bình năm 2019 không bằng 10 lira"
   ]
  },
  {
   "cell_type": "code",
   "execution_count": 45,
   "id": "c098f2aa",
   "metadata": {},
   "outputs": [
    {
     "data": {
      "text/plain": [
       "Ttest_1sampResult(statistic=-6.319885434592856, pvalue=8.812949954818996e-08)"
      ]
     },
     "execution_count": 45,
     "metadata": {},
     "output_type": "execute_result"
    }
   ],
   "source": [
    "stats.ttest_1samp(df_rice['Price'], 10)"
   ]
  },
  {
   "cell_type": "markdown",
   "id": "2ee5181a",
   "metadata": {},
   "source": [
    "pvalue < 0.05 -> Bác bỏ H0, vậy giá gạo trung bình năm 2019 khác 10 lira"
   ]
  },
  {
   "cell_type": "markdown",
   "id": "d60c88ab",
   "metadata": {},
   "source": [
    "2. Với mức ý nghĩa 5% hãy kiểm định giả thuyết: Giá bột mỳ và giá gạo ở Turkey năm 2019 là bằng nhau"
   ]
  },
  {
   "cell_type": "code",
   "execution_count": 46,
   "id": "c5b0162b",
   "metadata": {},
   "outputs": [
    {
     "data": {
      "text/html": [
       "<div>\n",
       "<style scoped>\n",
       "    .dataframe tbody tr th:only-of-type {\n",
       "        vertical-align: middle;\n",
       "    }\n",
       "\n",
       "    .dataframe tbody tr th {\n",
       "        vertical-align: top;\n",
       "    }\n",
       "\n",
       "    .dataframe thead th {\n",
       "        text-align: right;\n",
       "    }\n",
       "</style>\n",
       "<table border=\"1\" class=\"dataframe\">\n",
       "  <thead>\n",
       "    <tr style=\"text-align: right;\">\n",
       "      <th></th>\n",
       "      <th>Place</th>\n",
       "      <th>ProductId</th>\n",
       "      <th>ProductName</th>\n",
       "      <th>UmId</th>\n",
       "      <th>UmName</th>\n",
       "      <th>Month</th>\n",
       "      <th>Year</th>\n",
       "      <th>Price</th>\n",
       "    </tr>\n",
       "  </thead>\n",
       "  <tbody>\n",
       "    <tr>\n",
       "      <th>120</th>\n",
       "      <td>National Average</td>\n",
       "      <td>58</td>\n",
       "      <td>Wheat flour - Retail</td>\n",
       "      <td>5</td>\n",
       "      <td>KG</td>\n",
       "      <td>1</td>\n",
       "      <td>2019</td>\n",
       "      <td>3.5069</td>\n",
       "    </tr>\n",
       "    <tr>\n",
       "      <th>121</th>\n",
       "      <td>National Average</td>\n",
       "      <td>58</td>\n",
       "      <td>Wheat flour - Retail</td>\n",
       "      <td>5</td>\n",
       "      <td>KG</td>\n",
       "      <td>2</td>\n",
       "      <td>2019</td>\n",
       "      <td>3.4963</td>\n",
       "    </tr>\n",
       "    <tr>\n",
       "      <th>122</th>\n",
       "      <td>National Average</td>\n",
       "      <td>58</td>\n",
       "      <td>Wheat flour - Retail</td>\n",
       "      <td>5</td>\n",
       "      <td>KG</td>\n",
       "      <td>3</td>\n",
       "      <td>2019</td>\n",
       "      <td>3.5575</td>\n",
       "    </tr>\n",
       "    <tr>\n",
       "      <th>123</th>\n",
       "      <td>National Average</td>\n",
       "      <td>58</td>\n",
       "      <td>Wheat flour - Retail</td>\n",
       "      <td>5</td>\n",
       "      <td>KG</td>\n",
       "      <td>4</td>\n",
       "      <td>2019</td>\n",
       "      <td>3.6129</td>\n",
       "    </tr>\n",
       "    <tr>\n",
       "      <th>124</th>\n",
       "      <td>National Average</td>\n",
       "      <td>58</td>\n",
       "      <td>Wheat flour - Retail</td>\n",
       "      <td>5</td>\n",
       "      <td>KG</td>\n",
       "      <td>5</td>\n",
       "      <td>2019</td>\n",
       "      <td>3.5917</td>\n",
       "    </tr>\n",
       "  </tbody>\n",
       "</table>\n",
       "</div>"
      ],
      "text/plain": [
       "                Place  ProductId           ProductName  UmId UmName  Month  \\\n",
       "120  National Average         58  Wheat flour - Retail     5     KG      1   \n",
       "121  National Average         58  Wheat flour - Retail     5     KG      2   \n",
       "122  National Average         58  Wheat flour - Retail     5     KG      3   \n",
       "123  National Average         58  Wheat flour - Retail     5     KG      4   \n",
       "124  National Average         58  Wheat flour - Retail     5     KG      5   \n",
       "\n",
       "     Year   Price  \n",
       "120  2019  3.5069  \n",
       "121  2019  3.4963  \n",
       "122  2019  3.5575  \n",
       "123  2019  3.6129  \n",
       "124  2019  3.5917  "
      ]
     },
     "execution_count": 46,
     "metadata": {},
     "output_type": "execute_result"
    }
   ],
   "source": [
    "df_wheat = df[(df['ProductName']=='Wheat flour - Retail') & (df['Year']==2019)]\n",
    "df_wheat.head()"
   ]
  },
  {
   "cell_type": "code",
   "execution_count": 47,
   "id": "46577f50",
   "metadata": {},
   "outputs": [
    {
     "name": "stdout",
     "output_type": "stream",
     "text": [
      "Số lượng bản ghi của bột mỳ năm 2019: 48\n"
     ]
    }
   ],
   "source": [
    "print (f'Số lượng bản ghi của bột mỳ năm 2019: {df_wheat.shape[0]}')"
   ]
  },
  {
   "cell_type": "code",
   "execution_count": 48,
   "id": "cdece11b",
   "metadata": {},
   "outputs": [
    {
     "data": {
      "text/plain": [
       "<AxesSubplot:>"
      ]
     },
     "execution_count": 48,
     "metadata": {},
     "output_type": "execute_result"
    },
    {
     "data": {
      "image/png": "[encoded data removed]",
      "text/plain": [
       "<Figure size 432x288 with 1 Axes>"
      ]
     },
     "metadata": {
      "needs_background": "light"
     },
     "output_type": "display_data"
    }
   ],
   "source": [
    "import seaborn as sns\n",
    "price = {'rice': list(df_rice['Price']), 'wheat':list(df_wheat['Price'])}\n",
    "df_price = pd.DataFrame(price)\n",
    "sns.boxplot(data=df_price)"
   ]
  },
  {
   "cell_type": "markdown",
   "id": "30fba1da",
   "metadata": {},
   "source": [
    "Nhìn vào ta thấy giá bột mì thấp hơn giá gạo. Ta cần làm kiểm định để so sánh giá của hai loại có giống nhau hay không?"
   ]
  },
  {
   "cell_type": "markdown",
   "id": "da247cdb",
   "metadata": {},
   "source": [
    "- H0: Giá bột mỳ trung bình bằng giá gạo trung bình\n",
    "- H1: Giá trung bình của cả 2 loại không bằng nhau"
   ]
  },
  {
   "cell_type": "code",
   "execution_count": 49,
   "id": "d9109694",
   "metadata": {},
   "outputs": [
    {
     "data": {
      "text/plain": [
       "Ttest_indResult(statistic=53.751692036304206, pvalue=2.226692642717799e-72)"
      ]
     },
     "execution_count": 49,
     "metadata": {},
     "output_type": "execute_result"
    }
   ],
   "source": [
    "stats.ttest_ind(df_price['rice'], df_price['wheat'])"
   ]
  },
  {
   "cell_type": "markdown",
   "id": "78d760f5",
   "metadata": {},
   "source": [
    "pvalue < 0.05 -> bác bỏ H0, Giá trung bình của cả 2 loại không bằng nhau"
   ]
  },
  {
   "cell_type": "markdown",
   "id": "1e40d99e",
   "metadata": {},
   "source": [
    "3. Vẽ biểu đồ sự biến đổi giá gạo trung bình từ năm 1/2014 đến năm 1/2019 và tìm mối liên hệ giữa giá Trà và giá Cà phê"
   ]
  },
  {
   "cell_type": "code",
   "execution_count": 50,
   "id": "e0897314",
   "metadata": {},
   "outputs": [
    {
     "data": {
      "text/html": [
       "<div>\n",
       "<style scoped>\n",
       "    .dataframe tbody tr th:only-of-type {\n",
       "        vertical-align: middle;\n",
       "    }\n",
       "\n",
       "    .dataframe tbody tr th {\n",
       "        vertical-align: top;\n",
       "    }\n",
       "\n",
       "    .dataframe thead th {\n",
       "        text-align: right;\n",
       "    }\n",
       "</style>\n",
       "<table border=\"1\" class=\"dataframe\">\n",
       "  <thead>\n",
       "    <tr style=\"text-align: right;\">\n",
       "      <th></th>\n",
       "      <th>Place</th>\n",
       "      <th>ProductId</th>\n",
       "      <th>ProductName</th>\n",
       "      <th>UmId</th>\n",
       "      <th>UmName</th>\n",
       "      <th>Month</th>\n",
       "      <th>Year</th>\n",
       "      <th>Price</th>\n",
       "    </tr>\n",
       "  </thead>\n",
       "  <tbody>\n",
       "    <tr>\n",
       "      <th>0</th>\n",
       "      <td>National Average</td>\n",
       "      <td>52</td>\n",
       "      <td>Rice - Retail</td>\n",
       "      <td>5</td>\n",
       "      <td>KG</td>\n",
       "      <td>5</td>\n",
       "      <td>2013</td>\n",
       "      <td>4.4920</td>\n",
       "    </tr>\n",
       "    <tr>\n",
       "      <th>1</th>\n",
       "      <td>National Average</td>\n",
       "      <td>52</td>\n",
       "      <td>Rice - Retail</td>\n",
       "      <td>5</td>\n",
       "      <td>KG</td>\n",
       "      <td>6</td>\n",
       "      <td>2013</td>\n",
       "      <td>4.5786</td>\n",
       "    </tr>\n",
       "    <tr>\n",
       "      <th>2</th>\n",
       "      <td>National Average</td>\n",
       "      <td>52</td>\n",
       "      <td>Rice - Retail</td>\n",
       "      <td>5</td>\n",
       "      <td>KG</td>\n",
       "      <td>11</td>\n",
       "      <td>2013</td>\n",
       "      <td>4.7865</td>\n",
       "    </tr>\n",
       "    <tr>\n",
       "      <th>3</th>\n",
       "      <td>National Average</td>\n",
       "      <td>52</td>\n",
       "      <td>Rice - Retail</td>\n",
       "      <td>5</td>\n",
       "      <td>KG</td>\n",
       "      <td>12</td>\n",
       "      <td>2013</td>\n",
       "      <td>5.1337</td>\n",
       "    </tr>\n",
       "    <tr>\n",
       "      <th>4</th>\n",
       "      <td>National Average</td>\n",
       "      <td>52</td>\n",
       "      <td>Rice - Retail</td>\n",
       "      <td>5</td>\n",
       "      <td>KG</td>\n",
       "      <td>1</td>\n",
       "      <td>2014</td>\n",
       "      <td>5.5099</td>\n",
       "    </tr>\n",
       "  </tbody>\n",
       "</table>\n",
       "</div>"
      ],
      "text/plain": [
       "              Place  ProductId    ProductName  UmId UmName  Month  Year  \\\n",
       "0  National Average         52  Rice - Retail     5     KG      5  2013   \n",
       "1  National Average         52  Rice - Retail     5     KG      6  2013   \n",
       "2  National Average         52  Rice - Retail     5     KG     11  2013   \n",
       "3  National Average         52  Rice - Retail     5     KG     12  2013   \n",
       "4  National Average         52  Rice - Retail     5     KG      1  2014   \n",
       "\n",
       "    Price  \n",
       "0  4.4920  \n",
       "1  4.5786  \n",
       "2  4.7865  \n",
       "3  5.1337  \n",
       "4  5.5099  "
      ]
     },
     "execution_count": 50,
     "metadata": {},
     "output_type": "execute_result"
    }
   ],
   "source": [
    "df.head()"
   ]
  },
  {
   "cell_type": "code",
   "execution_count": 51,
   "id": "95349563",
   "metadata": {},
   "outputs": [
    {
     "data": {
      "text/html": [
       "<div>\n",
       "<style scoped>\n",
       "    .dataframe tbody tr th:only-of-type {\n",
       "        vertical-align: middle;\n",
       "    }\n",
       "\n",
       "    .dataframe tbody tr th {\n",
       "        vertical-align: top;\n",
       "    }\n",
       "\n",
       "    .dataframe thead th {\n",
       "        text-align: right;\n",
       "    }\n",
       "</style>\n",
       "<table border=\"1\" class=\"dataframe\">\n",
       "  <thead>\n",
       "    <tr style=\"text-align: right;\">\n",
       "      <th></th>\n",
       "      <th>Place</th>\n",
       "      <th>ProductId</th>\n",
       "      <th>ProductName</th>\n",
       "      <th>UmId</th>\n",
       "      <th>UmName</th>\n",
       "      <th>Month</th>\n",
       "      <th>Year</th>\n",
       "      <th>Price</th>\n",
       "      <th>Time</th>\n",
       "    </tr>\n",
       "  </thead>\n",
       "  <tbody>\n",
       "    <tr>\n",
       "      <th>0</th>\n",
       "      <td>National Average</td>\n",
       "      <td>52</td>\n",
       "      <td>Rice - Retail</td>\n",
       "      <td>5</td>\n",
       "      <td>KG</td>\n",
       "      <td>5</td>\n",
       "      <td>2013</td>\n",
       "      <td>4.4920</td>\n",
       "      <td>2013-05-01</td>\n",
       "    </tr>\n",
       "    <tr>\n",
       "      <th>1</th>\n",
       "      <td>National Average</td>\n",
       "      <td>52</td>\n",
       "      <td>Rice - Retail</td>\n",
       "      <td>5</td>\n",
       "      <td>KG</td>\n",
       "      <td>6</td>\n",
       "      <td>2013</td>\n",
       "      <td>4.5786</td>\n",
       "      <td>2013-06-01</td>\n",
       "    </tr>\n",
       "    <tr>\n",
       "      <th>2</th>\n",
       "      <td>National Average</td>\n",
       "      <td>52</td>\n",
       "      <td>Rice - Retail</td>\n",
       "      <td>5</td>\n",
       "      <td>KG</td>\n",
       "      <td>11</td>\n",
       "      <td>2013</td>\n",
       "      <td>4.7865</td>\n",
       "      <td>2013-11-01</td>\n",
       "    </tr>\n",
       "    <tr>\n",
       "      <th>3</th>\n",
       "      <td>National Average</td>\n",
       "      <td>52</td>\n",
       "      <td>Rice - Retail</td>\n",
       "      <td>5</td>\n",
       "      <td>KG</td>\n",
       "      <td>12</td>\n",
       "      <td>2013</td>\n",
       "      <td>5.1337</td>\n",
       "      <td>2013-12-01</td>\n",
       "    </tr>\n",
       "    <tr>\n",
       "      <th>4</th>\n",
       "      <td>National Average</td>\n",
       "      <td>52</td>\n",
       "      <td>Rice - Retail</td>\n",
       "      <td>5</td>\n",
       "      <td>KG</td>\n",
       "      <td>1</td>\n",
       "      <td>2014</td>\n",
       "      <td>5.5099</td>\n",
       "      <td>2014-01-01</td>\n",
       "    </tr>\n",
       "  </tbody>\n",
       "</table>\n",
       "</div>"
      ],
      "text/plain": [
       "              Place  ProductId    ProductName  UmId UmName  Month  Year  \\\n",
       "0  National Average         52  Rice - Retail     5     KG      5  2013   \n",
       "1  National Average         52  Rice - Retail     5     KG      6  2013   \n",
       "2  National Average         52  Rice - Retail     5     KG     11  2013   \n",
       "3  National Average         52  Rice - Retail     5     KG     12  2013   \n",
       "4  National Average         52  Rice - Retail     5     KG      1  2014   \n",
       "\n",
       "    Price       Time  \n",
       "0  4.4920 2013-05-01  \n",
       "1  4.5786 2013-06-01  \n",
       "2  4.7865 2013-11-01  \n",
       "3  5.1337 2013-12-01  \n",
       "4  5.5099 2014-01-01  "
      ]
     },
     "execution_count": 51,
     "metadata": {},
     "output_type": "execute_result"
    }
   ],
   "source": [
    "df['Time'] = pd.to_datetime(df['Year'].astype(str) + '/' + df['Month'].astype(str))\n",
    "df.head()"
   ]
  },
  {
   "cell_type": "code",
   "execution_count": 56,
   "id": "e2fe0a2b",
   "metadata": {},
   "outputs": [
    {
     "data": {
      "text/plain": [
       "Time\n",
       "2013-05-01    14.020100\n",
       "2013-06-01    14.000300\n",
       "2013-11-01    14.192100\n",
       "2013-12-01    14.399100\n",
       "2014-01-01    15.207200\n",
       "                ...    \n",
       "2019-08-01    29.407575\n",
       "2019-09-01    31.928875\n",
       "2019-10-01    32.427200\n",
       "2019-11-01    32.442000\n",
       "2019-12-01    32.366525\n",
       "Name: Price, Length: 75, dtype: float64"
      ]
     },
     "execution_count": 56,
     "metadata": {},
     "output_type": "execute_result"
    }
   ],
   "source": [
    "Tea_all = df[df['ProductName']=='Tea - Retail']\n",
    "df_tea_by_month = Tea_all.groupby('Time')['Price'].mean()\n",
    "df_tea_by_month"
   ]
  },
  {
   "cell_type": "code",
   "execution_count": 57,
   "id": "a64e5482",
   "metadata": {},
   "outputs": [
    {
     "data": {
      "text/plain": [
       "Time\n",
       "2013-05-01    30.893700\n",
       "2013-06-01    31.016400\n",
       "2013-11-01    30.744500\n",
       "2013-12-01    30.907900\n",
       "2014-01-01    31.260700\n",
       "                ...    \n",
       "2019-08-01    47.719150\n",
       "2019-09-01    48.352750\n",
       "2019-10-01    47.993300\n",
       "2019-11-01    48.244925\n",
       "2019-12-01    48.437275\n",
       "Name: Price, Length: 75, dtype: float64"
      ]
     },
     "execution_count": 57,
     "metadata": {},
     "output_type": "execute_result"
    }
   ],
   "source": [
    "coffee_all = df[df['ProductName']=='Coffee - Retail']\n",
    "coffee_all_by_month = coffee_all.groupby('Time')['Price'].mean()\n",
    "coffee_all_by_month"
   ]
  },
  {
   "cell_type": "code",
   "execution_count": 61,
   "id": "0ae376a4",
   "metadata": {},
   "outputs": [
    {
     "data": {
      "text/plain": [
       "[<matplotlib.lines.Line2D at 0x1d162f76fa0>]"
      ]
     },
     "execution_count": 61,
     "metadata": {},
     "output_type": "execute_result"
    },
    {
     "data": {
      "image/png": "[encoded data removed]",
      "text/plain": [
       "<Figure size 432x288 with 1 Axes>"
      ]
     },
     "metadata": {
      "needs_background": "light"
     },
     "output_type": "display_data"
    }
   ],
   "source": [
    "plt.plot_date(df_tea_by_month.index, df_tea_by_month.values, linestyle='solid')\n",
    "plt.plot_date(coffee_all_by_month.index, coffee_all_by_month.values, linestyle='solid')"
   ]
  },
  {
   "cell_type": "code",
   "execution_count": 62,
   "id": "add69def",
   "metadata": {
    "scrolled": true
   },
   "outputs": [
    {
     "data": {
      "text/html": [
       "<div>\n",
       "<style scoped>\n",
       "    .dataframe tbody tr th:only-of-type {\n",
       "        vertical-align: middle;\n",
       "    }\n",
       "\n",
       "    .dataframe tbody tr th {\n",
       "        vertical-align: top;\n",
       "    }\n",
       "\n",
       "    .dataframe thead th {\n",
       "        text-align: right;\n",
       "    }\n",
       "</style>\n",
       "<table border=\"1\" class=\"dataframe\">\n",
       "  <thead>\n",
       "    <tr style=\"text-align: right;\">\n",
       "      <th></th>\n",
       "      <th>Place</th>\n",
       "      <th>ProductId</th>\n",
       "      <th>ProductName</th>\n",
       "      <th>UmId</th>\n",
       "      <th>UmName</th>\n",
       "      <th>Month</th>\n",
       "      <th>Year</th>\n",
       "      <th>Price</th>\n",
       "      <th>Time</th>\n",
       "    </tr>\n",
       "  </thead>\n",
       "  <tbody>\n",
       "    <tr>\n",
       "      <th>838</th>\n",
       "      <td>National Average</td>\n",
       "      <td>151</td>\n",
       "      <td>Coffee - Retail</td>\n",
       "      <td>5</td>\n",
       "      <td>KG</td>\n",
       "      <td>5</td>\n",
       "      <td>2013</td>\n",
       "      <td>30.8937</td>\n",
       "      <td>2013-05-01</td>\n",
       "    </tr>\n",
       "    <tr>\n",
       "      <th>839</th>\n",
       "      <td>National Average</td>\n",
       "      <td>151</td>\n",
       "      <td>Coffee - Retail</td>\n",
       "      <td>5</td>\n",
       "      <td>KG</td>\n",
       "      <td>6</td>\n",
       "      <td>2013</td>\n",
       "      <td>31.0164</td>\n",
       "      <td>2013-06-01</td>\n",
       "    </tr>\n",
       "    <tr>\n",
       "      <th>840</th>\n",
       "      <td>National Average</td>\n",
       "      <td>151</td>\n",
       "      <td>Coffee - Retail</td>\n",
       "      <td>5</td>\n",
       "      <td>KG</td>\n",
       "      <td>11</td>\n",
       "      <td>2013</td>\n",
       "      <td>30.7445</td>\n",
       "      <td>2013-11-01</td>\n",
       "    </tr>\n",
       "    <tr>\n",
       "      <th>841</th>\n",
       "      <td>National Average</td>\n",
       "      <td>151</td>\n",
       "      <td>Coffee - Retail</td>\n",
       "      <td>5</td>\n",
       "      <td>KG</td>\n",
       "      <td>12</td>\n",
       "      <td>2013</td>\n",
       "      <td>30.9079</td>\n",
       "      <td>2013-12-01</td>\n",
       "    </tr>\n",
       "    <tr>\n",
       "      <th>842</th>\n",
       "      <td>National Average</td>\n",
       "      <td>151</td>\n",
       "      <td>Coffee - Retail</td>\n",
       "      <td>5</td>\n",
       "      <td>KG</td>\n",
       "      <td>1</td>\n",
       "      <td>2014</td>\n",
       "      <td>31.2607</td>\n",
       "      <td>2014-01-01</td>\n",
       "    </tr>\n",
       "  </tbody>\n",
       "</table>\n",
       "</div>"
      ],
      "text/plain": [
       "                Place  ProductId      ProductName  UmId UmName  Month  Year  \\\n",
       "838  National Average        151  Coffee - Retail     5     KG      5  2013   \n",
       "839  National Average        151  Coffee - Retail     5     KG      6  2013   \n",
       "840  National Average        151  Coffee - Retail     5     KG     11  2013   \n",
       "841  National Average        151  Coffee - Retail     5     KG     12  2013   \n",
       "842  National Average        151  Coffee - Retail     5     KG      1  2014   \n",
       "\n",
       "       Price       Time  \n",
       "838  30.8937 2013-05-01  \n",
       "839  31.0164 2013-06-01  \n",
       "840  30.7445 2013-11-01  \n",
       "841  30.9079 2013-12-01  \n",
       "842  31.2607 2014-01-01  "
      ]
     },
     "execution_count": 62,
     "metadata": {},
     "output_type": "execute_result"
    }
   ],
   "source": [
    "df_tea_coffee = pd.DataFrame(df[df['ProductName'].isin(['Tea - Retail', 'Coffee - Retail'])])\n",
    "df_tea_coffee.head()"
   ]
  },
  {
   "cell_type": "code",
   "execution_count": 64,
   "id": "5ba563da",
   "metadata": {},
   "outputs": [
    {
     "data": {
      "text/html": [
       "<div>\n",
       "<style scoped>\n",
       "    .dataframe tbody tr th:only-of-type {\n",
       "        vertical-align: middle;\n",
       "    }\n",
       "\n",
       "    .dataframe tbody tr th {\n",
       "        vertical-align: top;\n",
       "    }\n",
       "\n",
       "    .dataframe thead th {\n",
       "        text-align: right;\n",
       "    }\n",
       "</style>\n",
       "<table border=\"1\" class=\"dataframe\">\n",
       "  <thead>\n",
       "    <tr style=\"text-align: right;\">\n",
       "      <th></th>\n",
       "      <th>Place</th>\n",
       "      <th>ProductId</th>\n",
       "      <th>ProductName</th>\n",
       "      <th>UmId</th>\n",
       "      <th>UmName</th>\n",
       "      <th>Month</th>\n",
       "      <th>Year</th>\n",
       "      <th>Price</th>\n",
       "      <th>Time</th>\n",
       "      <th>Time-Place</th>\n",
       "    </tr>\n",
       "  </thead>\n",
       "  <tbody>\n",
       "    <tr>\n",
       "      <th>838</th>\n",
       "      <td>National Average</td>\n",
       "      <td>151</td>\n",
       "      <td>Coffee - Retail</td>\n",
       "      <td>5</td>\n",
       "      <td>KG</td>\n",
       "      <td>5</td>\n",
       "      <td>2013</td>\n",
       "      <td>30.8937</td>\n",
       "      <td>2013-05-01</td>\n",
       "      <td>2013-05-01-National Average</td>\n",
       "    </tr>\n",
       "    <tr>\n",
       "      <th>839</th>\n",
       "      <td>National Average</td>\n",
       "      <td>151</td>\n",
       "      <td>Coffee - Retail</td>\n",
       "      <td>5</td>\n",
       "      <td>KG</td>\n",
       "      <td>6</td>\n",
       "      <td>2013</td>\n",
       "      <td>31.0164</td>\n",
       "      <td>2013-06-01</td>\n",
       "      <td>2013-06-01-National Average</td>\n",
       "    </tr>\n",
       "    <tr>\n",
       "      <th>840</th>\n",
       "      <td>National Average</td>\n",
       "      <td>151</td>\n",
       "      <td>Coffee - Retail</td>\n",
       "      <td>5</td>\n",
       "      <td>KG</td>\n",
       "      <td>11</td>\n",
       "      <td>2013</td>\n",
       "      <td>30.7445</td>\n",
       "      <td>2013-11-01</td>\n",
       "      <td>2013-11-01-National Average</td>\n",
       "    </tr>\n",
       "    <tr>\n",
       "      <th>841</th>\n",
       "      <td>National Average</td>\n",
       "      <td>151</td>\n",
       "      <td>Coffee - Retail</td>\n",
       "      <td>5</td>\n",
       "      <td>KG</td>\n",
       "      <td>12</td>\n",
       "      <td>2013</td>\n",
       "      <td>30.9079</td>\n",
       "      <td>2013-12-01</td>\n",
       "      <td>2013-12-01-National Average</td>\n",
       "    </tr>\n",
       "    <tr>\n",
       "      <th>842</th>\n",
       "      <td>National Average</td>\n",
       "      <td>151</td>\n",
       "      <td>Coffee - Retail</td>\n",
       "      <td>5</td>\n",
       "      <td>KG</td>\n",
       "      <td>1</td>\n",
       "      <td>2014</td>\n",
       "      <td>31.2607</td>\n",
       "      <td>2014-01-01</td>\n",
       "      <td>2014-01-01-National Average</td>\n",
       "    </tr>\n",
       "  </tbody>\n",
       "</table>\n",
       "</div>"
      ],
      "text/plain": [
       "                Place  ProductId      ProductName  UmId UmName  Month  Year  \\\n",
       "838  National Average        151  Coffee - Retail     5     KG      5  2013   \n",
       "839  National Average        151  Coffee - Retail     5     KG      6  2013   \n",
       "840  National Average        151  Coffee - Retail     5     KG     11  2013   \n",
       "841  National Average        151  Coffee - Retail     5     KG     12  2013   \n",
       "842  National Average        151  Coffee - Retail     5     KG      1  2014   \n",
       "\n",
       "       Price       Time                   Time-Place  \n",
       "838  30.8937 2013-05-01  2013-05-01-National Average  \n",
       "839  31.0164 2013-06-01  2013-06-01-National Average  \n",
       "840  30.7445 2013-11-01  2013-11-01-National Average  \n",
       "841  30.9079 2013-12-01  2013-12-01-National Average  \n",
       "842  31.2607 2014-01-01  2014-01-01-National Average  "
      ]
     },
     "execution_count": 64,
     "metadata": {},
     "output_type": "execute_result"
    }
   ],
   "source": [
    "df_tea_coffee['Time-Place'] = df_tea_coffee['Time'].astype(str) + '-' + df_tea_coffee['Place'].astype(str)\n",
    "df_tea_coffee.head()"
   ]
  },
  {
   "cell_type": "code",
   "execution_count": 68,
   "id": "04f5af41",
   "metadata": {},
   "outputs": [
    {
     "data": {
      "text/html": [
       "<div>\n",
       "<style scoped>\n",
       "    .dataframe tbody tr th:only-of-type {\n",
       "        vertical-align: middle;\n",
       "    }\n",
       "\n",
       "    .dataframe tbody tr th {\n",
       "        vertical-align: top;\n",
       "    }\n",
       "\n",
       "    .dataframe thead th {\n",
       "        text-align: right;\n",
       "    }\n",
       "</style>\n",
       "<table border=\"1\" class=\"dataframe\">\n",
       "  <thead>\n",
       "    <tr style=\"text-align: right;\">\n",
       "      <th></th>\n",
       "      <th>Time-Place</th>\n",
       "      <th>Tea Price</th>\n",
       "    </tr>\n",
       "  </thead>\n",
       "  <tbody>\n",
       "    <tr>\n",
       "      <th>1701</th>\n",
       "      <td>2013-05-01-National Average</td>\n",
       "      <td>14.0201</td>\n",
       "    </tr>\n",
       "    <tr>\n",
       "      <th>1702</th>\n",
       "      <td>2013-06-01-National Average</td>\n",
       "      <td>14.0003</td>\n",
       "    </tr>\n",
       "    <tr>\n",
       "      <th>1703</th>\n",
       "      <td>2013-11-01-National Average</td>\n",
       "      <td>14.1921</td>\n",
       "    </tr>\n",
       "    <tr>\n",
       "      <th>1704</th>\n",
       "      <td>2013-12-01-National Average</td>\n",
       "      <td>14.3991</td>\n",
       "    </tr>\n",
       "    <tr>\n",
       "      <th>1705</th>\n",
       "      <td>2014-01-01-National Average</td>\n",
       "      <td>15.2072</td>\n",
       "    </tr>\n",
       "    <tr>\n",
       "      <th>...</th>\n",
       "      <td>...</td>\n",
       "      <td>...</td>\n",
       "    </tr>\n",
       "    <tr>\n",
       "      <th>6685</th>\n",
       "      <td>2019-08-01-Izmir</td>\n",
       "      <td>31.5816</td>\n",
       "    </tr>\n",
       "    <tr>\n",
       "      <th>6686</th>\n",
       "      <td>2019-09-01-Izmir</td>\n",
       "      <td>34.5236</td>\n",
       "    </tr>\n",
       "    <tr>\n",
       "      <th>6687</th>\n",
       "      <td>2019-10-01-Izmir</td>\n",
       "      <td>35.4092</td>\n",
       "    </tr>\n",
       "    <tr>\n",
       "      <th>6688</th>\n",
       "      <td>2019-11-01-Izmir</td>\n",
       "      <td>35.4751</td>\n",
       "    </tr>\n",
       "    <tr>\n",
       "      <th>6689</th>\n",
       "      <td>2019-12-01-Izmir</td>\n",
       "      <td>35.1895</td>\n",
       "    </tr>\n",
       "  </tbody>\n",
       "</table>\n",
       "<p>174 rows × 2 columns</p>\n",
       "</div>"
      ],
      "text/plain": [
       "                       Time-Place  Tea Price\n",
       "1701  2013-05-01-National Average    14.0201\n",
       "1702  2013-06-01-National Average    14.0003\n",
       "1703  2013-11-01-National Average    14.1921\n",
       "1704  2013-12-01-National Average    14.3991\n",
       "1705  2014-01-01-National Average    15.2072\n",
       "...                           ...        ...\n",
       "6685             2019-08-01-Izmir    31.5816\n",
       "6686             2019-09-01-Izmir    34.5236\n",
       "6687             2019-10-01-Izmir    35.4092\n",
       "6688             2019-11-01-Izmir    35.4751\n",
       "6689             2019-12-01-Izmir    35.1895\n",
       "\n",
       "[174 rows x 2 columns]"
      ]
     },
     "execution_count": 68,
     "metadata": {},
     "output_type": "execute_result"
    }
   ],
   "source": [
    "df_tea = df_tea_coffee[df_tea_coffee['ProductName']=='Tea - Retail'].filter(['Time-Place', 'Price'])\n",
    "df_tea.columns = ['Time-Place', 'Tea Price']\n",
    "df_tea"
   ]
  },
  {
   "cell_type": "code",
   "execution_count": 71,
   "id": "96920f2d",
   "metadata": {},
   "outputs": [
    {
     "data": {
      "text/html": [
       "<div>\n",
       "<style scoped>\n",
       "    .dataframe tbody tr th:only-of-type {\n",
       "        vertical-align: middle;\n",
       "    }\n",
       "\n",
       "    .dataframe tbody tr th {\n",
       "        vertical-align: top;\n",
       "    }\n",
       "\n",
       "    .dataframe thead th {\n",
       "        text-align: right;\n",
       "    }\n",
       "</style>\n",
       "<table border=\"1\" class=\"dataframe\">\n",
       "  <thead>\n",
       "    <tr style=\"text-align: right;\">\n",
       "      <th></th>\n",
       "      <th>Time-Place</th>\n",
       "      <th>Coffee price</th>\n",
       "    </tr>\n",
       "  </thead>\n",
       "  <tbody>\n",
       "    <tr>\n",
       "      <th>838</th>\n",
       "      <td>2013-05-01-National Average</td>\n",
       "      <td>30.8937</td>\n",
       "    </tr>\n",
       "    <tr>\n",
       "      <th>839</th>\n",
       "      <td>2013-06-01-National Average</td>\n",
       "      <td>31.0164</td>\n",
       "    </tr>\n",
       "    <tr>\n",
       "      <th>840</th>\n",
       "      <td>2013-11-01-National Average</td>\n",
       "      <td>30.7445</td>\n",
       "    </tr>\n",
       "    <tr>\n",
       "      <th>841</th>\n",
       "      <td>2013-12-01-National Average</td>\n",
       "      <td>30.9079</td>\n",
       "    </tr>\n",
       "    <tr>\n",
       "      <th>842</th>\n",
       "      <td>2014-01-01-National Average</td>\n",
       "      <td>31.2607</td>\n",
       "    </tr>\n",
       "  </tbody>\n",
       "</table>\n",
       "</div>"
      ],
      "text/plain": [
       "                      Time-Place  Coffee price\n",
       "838  2013-05-01-National Average       30.8937\n",
       "839  2013-06-01-National Average       31.0164\n",
       "840  2013-11-01-National Average       30.7445\n",
       "841  2013-12-01-National Average       30.9079\n",
       "842  2014-01-01-National Average       31.2607"
      ]
     },
     "execution_count": 71,
     "metadata": {},
     "output_type": "execute_result"
    }
   ],
   "source": [
    "df_coffee = df_tea_coffee[df_tea_coffee['ProductName']=='Coffee - Retail'].filter(['Time-Place', 'Price'])\n",
    "df_coffee.columns = ['Time-Place', 'Coffee price']\n",
    "df_coffee.head()"
   ]
  },
  {
   "cell_type": "code",
   "execution_count": 73,
   "id": "3802222f",
   "metadata": {},
   "outputs": [
    {
     "data": {
      "text/html": [
       "<div>\n",
       "<style scoped>\n",
       "    .dataframe tbody tr th:only-of-type {\n",
       "        vertical-align: middle;\n",
       "    }\n",
       "\n",
       "    .dataframe tbody tr th {\n",
       "        vertical-align: top;\n",
       "    }\n",
       "\n",
       "    .dataframe thead th {\n",
       "        text-align: right;\n",
       "    }\n",
       "</style>\n",
       "<table border=\"1\" class=\"dataframe\">\n",
       "  <thead>\n",
       "    <tr style=\"text-align: right;\">\n",
       "      <th></th>\n",
       "      <th>Time-Place</th>\n",
       "      <th>Tea Price</th>\n",
       "      <th>Coffee price</th>\n",
       "    </tr>\n",
       "  </thead>\n",
       "  <tbody>\n",
       "    <tr>\n",
       "      <th>0</th>\n",
       "      <td>2013-05-01-National Average</td>\n",
       "      <td>14.0201</td>\n",
       "      <td>30.8937</td>\n",
       "    </tr>\n",
       "    <tr>\n",
       "      <th>1</th>\n",
       "      <td>2013-06-01-National Average</td>\n",
       "      <td>14.0003</td>\n",
       "      <td>31.0164</td>\n",
       "    </tr>\n",
       "    <tr>\n",
       "      <th>2</th>\n",
       "      <td>2013-11-01-National Average</td>\n",
       "      <td>14.1921</td>\n",
       "      <td>30.7445</td>\n",
       "    </tr>\n",
       "    <tr>\n",
       "      <th>3</th>\n",
       "      <td>2013-12-01-National Average</td>\n",
       "      <td>14.3991</td>\n",
       "      <td>30.9079</td>\n",
       "    </tr>\n",
       "    <tr>\n",
       "      <th>4</th>\n",
       "      <td>2014-01-01-National Average</td>\n",
       "      <td>15.2072</td>\n",
       "      <td>31.2607</td>\n",
       "    </tr>\n",
       "  </tbody>\n",
       "</table>\n",
       "</div>"
      ],
      "text/plain": [
       "                    Time-Place  Tea Price  Coffee price\n",
       "0  2013-05-01-National Average    14.0201       30.8937\n",
       "1  2013-06-01-National Average    14.0003       31.0164\n",
       "2  2013-11-01-National Average    14.1921       30.7445\n",
       "3  2013-12-01-National Average    14.3991       30.9079\n",
       "4  2014-01-01-National Average    15.2072       31.2607"
      ]
     },
     "execution_count": 73,
     "metadata": {},
     "output_type": "execute_result"
    }
   ],
   "source": [
    "processed_data = pd.merge(df_tea, df_coffee, on='Time-Place')\n",
    "processed_data.head()"
   ]
  },
  {
   "cell_type": "markdown",
   "id": "e9530ebe",
   "metadata": {},
   "source": [
    "- H0: Giá Cà phê bằng giá Trà công thêm 15 Lira ở mọi thời điểm\n",
    "- H1: Giá Cà phê luôn hơn giá Trà 15 Lira ở mọi thời điểm"
   ]
  },
  {
   "cell_type": "code",
   "execution_count": 77,
   "id": "14da277e",
   "metadata": {
    "scrolled": true
   },
   "outputs": [
    {
     "data": {
      "text/plain": [
       "WilcoxonResult(statistic=9838.0, pvalue=0.0004122034397612688)"
      ]
     },
     "execution_count": 77,
     "metadata": {},
     "output_type": "execute_result"
    }
   ],
   "source": [
    "d = processed_data['Coffee price'] - processed_data['Tea Price'] - 15\n",
    "stats.wilcoxon(d, alternative='greater')"
   ]
  },
  {
   "cell_type": "markdown",
   "id": "37ede092",
   "metadata": {},
   "source": [
    "pvalue < 0.01 -> Bác bỏ H0, Giá Cà phê luôn lớn hơn giá Trà ít nhất 15 Lira mà không bị ảnh hưởng bởi thời gian hay địa điểm"
   ]
  }
 ],
 "metadata": {
  "kernelspec": {
   "display_name": "Python 3",
   "language": "python",
   "name": "python3"
  },
  "language_info": {
   "codemirror_mode": {
    "name": "ipython",
    "version": 3
   },
   "file_extension": ".py",
   "mimetype": "text/x-python",
   "name": "python",
   "nbconvert_exporter": "python",
   "pygments_lexer": "ipython3",
   "version": "3.8.8"
  }
 },
 "nbformat": 4,
 "nbformat_minor": 5
}
